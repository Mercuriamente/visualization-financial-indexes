{
 "cells": [
  {
   "cell_type": "code",
   "execution_count": 5,
   "metadata": {},
   "outputs": [],
   "source": [
    "import requests \n",
    "import os\n",
    "\n",
    "from bs4 import BeautifulSoup\n",
    "\n",
    "from selenium import webdriver\n",
    "from selenium.webdriver.common.by import By\n",
    "\n",
    "from time import sleep\n",
    "import selenium\n",
    "import pandas as pd"
   ]
  },
  {
   "cell_type": "code",
   "execution_count": 6,
   "metadata": {},
   "outputs": [],
   "source": [
    "# Driver de Chrome\n",
    "chrome_driver = \"chromedriver.exe\"\n",
    "\n",
    "# Ejecutar webdriver.Chrome abrirá una ventana nueva en el navegador \n",
    "# A traves de esta ventana podremos seguir usando selenium\n",
    "browser = webdriver.Chrome()\n",
    "\n",
    "url = \"https://es.finance.yahoo.com/world-indices/\"\n",
    "browser.get(url)"
   ]
  },
  {
   "cell_type": "code",
   "execution_count": 7,
   "metadata": {},
   "outputs": [],
   "source": [
    "#Aceptos la cookies\n",
    "browser.find_element(by = By.CSS_SELECTOR, value = \"#consent-page > div > div > div > form > div.wizard-body > div.actions.couple > button.btn.secondary.accept-all \").click()\n",
    "sleep(5)"
   ]
  },
  {
   "cell_type": "code",
   "execution_count": 8,
   "metadata": {},
   "outputs": [],
   "source": [
    "soup = BeautifulSoup(browser.page_source, \"html.parser\")"
   ]
  },
  {
   "cell_type": "code",
   "execution_count": 9,
   "metadata": {},
   "outputs": [],
   "source": [
    "lista_links = soup.find(\"tbody\").find_all(\"a\")"
   ]
  },
  {
   "cell_type": "code",
   "execution_count": 10,
   "metadata": {},
   "outputs": [
    {
     "data": {
      "text/plain": [
       "81600"
      ]
     },
     "execution_count": 10,
     "metadata": {},
     "output_type": "execute_result"
    }
   ],
   "source": [
    "len(lista_links)*1200"
   ]
  },
  {
   "cell_type": "code",
   "execution_count": 11,
   "metadata": {},
   "outputs": [
    {
     "data": {
      "text/plain": [
       "<a aria-label=\"Ir a ^JN0U.JO Chart\" class=\"C($linkColor)\" data-symbol=\"^JN0U.JO\" href=\"/chart/%5EJN0U.JO?p=%5EJN0U.JO\" rel=\"noopener noreferrer\" target=\"_blank\"><canvas height=\"25\" style=\"width:70px;height:25px\" width=\"70\"></canvas></a>"
      ]
     },
     "execution_count": 11,
     "metadata": {},
     "output_type": "execute_result"
    }
   ],
   "source": [
    "lista_links.pop(-1)"
   ]
  },
  {
   "cell_type": "code",
   "execution_count": 12,
   "metadata": {},
   "outputs": [
    {
     "data": {
      "text/plain": [
       "{'IBEX': '/quote/%5EIBEX?p=%5EIBEX',\n",
       " 'GSPC': '/quote/%5EGSPC?p=%5EGSPC',\n",
       " 'DJI': '/quote/%5EDJI?p=%5EDJI',\n",
       " 'IXIC': '/quote/%5EIXIC?p=%5EIXIC',\n",
       " 'FTSE': '/quote/%5EFTSE?p=%5EFTSE',\n",
       " 'FCHI': '/quote/%5EFCHI?p=%5EFCHI',\n",
       " 'GDAXI': '/quote/%5EGDAXI?p=%5EGDAXI',\n",
       " 'STOXX50E': '/quote/%5ESTOXX50E?p=%5ESTOXX50E',\n",
       " 'N225': '/quote/%5EN225?p=%5EN225',\n",
       " 'HSI': '/quote/%5EHSI?p=%5EHSI',\n",
       " 'BVSP': '/quote/%5EBVSP?p=%5EBVSP',\n",
       " 'MXX': '/quote/%5EMXX?p=%5EMXX',\n",
       " 'IPSA': '/quote/%5EIPSA?p=%5EIPSA',\n",
       " 'N100': '/quote/%5EN100?p=%5EN100',\n",
       " 'BFX': '/quote/%5EBFX?p=%5EBFX',\n",
       " 'ATX': '/quote/%5EATX?p=%5EATX',\n",
       " 'OMXC20': '/quote/%5EOMXC20?p=%5EOMXC20',\n",
       " 'OSEAX': '/quote/%5EOSEAX?p=%5EOSEAX',\n",
       " 'FTSEMIB.MI': '/quote/FTSEMIB.MI?p=FTSEMIB.MI',\n",
       " 'OMXSPI': '/quote/%5EOMXSPI?p=%5EOMXSPI',\n",
       " 'SSMI': '/quote/%5ESSMI?p=%5ESSMI',\n",
       " 'JKSE': '/quote/%5EJKSE?p=%5EJKSE',\n",
       " 'KS11': '/quote/%5EKS11?p=%5EKS11',\n",
       " 'TWII': '/quote/%5ETWII?p=%5ETWII',\n",
       " 'TA125.TA': '/quote/%5ETA125.TA?p=%5ETA125.TA',\n",
       " 'INDC.MC': '/quote/INDC.MC?p=INDC.MC',\n",
       " 'INDS.MC': '/quote/INDS.MC?p=INDS.MC',\n",
       " 'INDD.MC': '/quote/INDD.MC?p=INDD.MC',\n",
       " 'KLSE': '/quote/%5EKLSE?p=%5EKLSE',\n",
       " 'NZ50': '/quote/%5ENZ50?p=%5ENZ50',\n",
       " 'CASE30': '/quote/%5ECASE30?p=%5ECASE30',\n",
       " 'JN0U.JO': '/quote/%5EJN0U.JO?p=%5EJN0U.JO'}"
      ]
     },
     "execution_count": 12,
     "metadata": {},
     "output_type": "execute_result"
    }
   ],
   "source": [
    "dict_indices = { a.text.replace(\"^\",\"\") : a[\"href\"]  for a in lista_links if a.text != \"\" }\n",
    "dict_indices"
   ]
  },
  {
   "cell_type": "code",
   "execution_count": 14,
   "metadata": {},
   "outputs": [
    {
     "ename": "FileExistsError",
     "evalue": "[WinError 183] No se puede crear un archivo que ya existe: './data'",
     "output_type": "error",
     "traceback": [
      "\u001b[1;31m---------------------------------------------------------------------------\u001b[0m",
      "\u001b[1;31mFileExistsError\u001b[0m                           Traceback (most recent call last)",
      "Cell \u001b[1;32mIn[14], line 1\u001b[0m\n\u001b[1;32m----> 1\u001b[0m \u001b[43mos\u001b[49m\u001b[38;5;241;43m.\u001b[39;49m\u001b[43mmkdir\u001b[49m\u001b[43m(\u001b[49m\u001b[38;5;124;43m\"\u001b[39;49m\u001b[38;5;124;43m./data\u001b[39;49m\u001b[38;5;124;43m\"\u001b[39;49m\u001b[43m)\u001b[49m\n\u001b[0;32m      2\u001b[0m \u001b[38;5;28;01mfor\u001b[39;00m k,v \u001b[38;5;129;01min\u001b[39;00m dict_indices\u001b[38;5;241m.\u001b[39mitems():\n\u001b[0;32m      4\u001b[0m      os\u001b[38;5;241m.\u001b[39mmkdir(\u001b[38;5;124mf\u001b[39m\u001b[38;5;124m\"\u001b[39m\u001b[38;5;124m./data/\u001b[39m\u001b[38;5;132;01m{\u001b[39;00mk\u001b[38;5;132;01m}\u001b[39;00m\u001b[38;5;124m\"\u001b[39m)\n",
      "\u001b[1;31mFileExistsError\u001b[0m: [WinError 183] No se puede crear un archivo que ya existe: './data'"
     ]
    }
   ],
   "source": [
    "os.mkdir(\"./data\")\n",
    "for k,v in dict_indices.items():\n",
    "\n",
    "     os.mkdir(f\"./data/{k}\")"
   ]
  },
  {
   "cell_type": "code",
   "execution_count": 11,
   "metadata": {},
   "outputs": [],
   "source": [
    "def obtener_datos(url):\n",
    "    \n",
    "    driver = webdriver.Chrome()\n",
    "\n",
    "    url_principal = f\"https://es.finance.yahoo.com/{url}\"\n",
    "\n",
    "    driver.get(url_principal)\n",
    "\n",
    "    #Acepta las condiciones\n",
    "    driver.find_element(by=By.CSS_SELECTOR, value='#consent-page > div > div > div > form > div.wizard-body > div.actions.couple > button.btn.secondary.accept-all').click()\n",
    "    sleep(2)\n",
    "    \n",
    "    #Selecciona los datos historicos del indice\n",
    "    try:\n",
    "        driver.find_element(by=By.CSS_SELECTOR, value='#quote-nav > ul > li:nth-child(3) > a').click()\n",
    "        sleep(2)\n",
    "    \n",
    "    \n",
    "        #Selecciona rango de ultimos 5 años\n",
    "        driver.find_element(by=By.CSS_SELECTOR, value='#Col1-1-HistoricalDataTable-Proxy > section > div.Pt\\(15px\\) > div.Bgc\\(\\$lv1BgColor\\).Bdrs\\(3px\\).P\\(10px\\) > div:nth-child(1) > div > div > div').click()\n",
    "\n",
    "        sleep(2)\n",
    "        driver.find_element(by=By.CSS_SELECTOR, value='#dropdown-menu > div > ul:nth-child(2) > li:nth-child(3) > button').click()\n",
    "\n",
    "        sleep(2)\n",
    "        driver.find_element(by=By.CSS_SELECTOR, value='#Col1-1-HistoricalDataTable-Proxy > section > div.Pt\\(15px\\) > div.Bgc\\(\\$lv1BgColor\\).Bdrs\\(3px\\).P\\(10px\\) > button').click()\n",
    "        sleep(2)\n",
    "\n",
    "        #Baja hasta el final de la pagina\n",
    "        var=5000 \n",
    "        for i in range(20):\n",
    "            driver.execute_script(f\"window.scrollTo(0, {var}{i});\")\n",
    "            sleep(1)\n",
    "        #Encuentra la tabla en la página utilizando Selenium (ajusta este código según la estructura específica de la página)\n",
    "        table = driver.find_element(By.TAG_NAME, 'table')\n",
    "\n",
    "        #Utiliza pandas para leer la tabla HTML y convertirla en un DataFrame\n",
    "        df = pd.read_html(table.get_attribute('outerHTML'))[0]\n",
    "\n",
    "        driver.quit()\n",
    "\n",
    "        return df\n",
    "    \n",
    "    except:\n",
    "        None"
   ]
  },
  {
   "cell_type": "code",
   "execution_count": 12,
   "metadata": {},
   "outputs": [
    {
     "name": "stdout",
     "output_type": "stream",
     "text": [
      "IBEX /quote/%5EIBEX?p=%5EIBEX\n"
     ]
    },
    {
     "name": "stderr",
     "output_type": "stream",
     "text": [
      "C:\\Users\\amora\\AppData\\Local\\Temp\\ipykernel_11196\\1370297944.py:38: FutureWarning: Passing literal html to 'read_html' is deprecated and will be removed in a future version. To read from a literal string, wrap it in a 'StringIO' object.\n",
      "  df = pd.read_html(table.get_attribute('outerHTML'))[0]\n"
     ]
    },
    {
     "name": "stdout",
     "output_type": "stream",
     "text": [
      "GSPC /quote/%5EGSPC?p=%5EGSPC\n"
     ]
    },
    {
     "name": "stderr",
     "output_type": "stream",
     "text": [
      "C:\\Users\\amora\\AppData\\Local\\Temp\\ipykernel_11196\\1370297944.py:38: FutureWarning: Passing literal html to 'read_html' is deprecated and will be removed in a future version. To read from a literal string, wrap it in a 'StringIO' object.\n",
      "  df = pd.read_html(table.get_attribute('outerHTML'))[0]\n"
     ]
    },
    {
     "name": "stdout",
     "output_type": "stream",
     "text": [
      "DJI /quote/%5EDJI?p=%5EDJI\n"
     ]
    },
    {
     "name": "stderr",
     "output_type": "stream",
     "text": [
      "C:\\Users\\amora\\AppData\\Local\\Temp\\ipykernel_11196\\1370297944.py:38: FutureWarning: Passing literal html to 'read_html' is deprecated and will be removed in a future version. To read from a literal string, wrap it in a 'StringIO' object.\n",
      "  df = pd.read_html(table.get_attribute('outerHTML'))[0]\n"
     ]
    },
    {
     "name": "stdout",
     "output_type": "stream",
     "text": [
      "IXIC /quote/%5EIXIC?p=%5EIXIC\n"
     ]
    },
    {
     "name": "stderr",
     "output_type": "stream",
     "text": [
      "C:\\Users\\amora\\AppData\\Local\\Temp\\ipykernel_11196\\1370297944.py:38: FutureWarning: Passing literal html to 'read_html' is deprecated and will be removed in a future version. To read from a literal string, wrap it in a 'StringIO' object.\n",
      "  df = pd.read_html(table.get_attribute('outerHTML'))[0]\n"
     ]
    },
    {
     "name": "stdout",
     "output_type": "stream",
     "text": [
      "FTSE /quote/%5EFTSE?p=%5EFTSE\n",
      "FCHI /quote/%5EFCHI?p=%5EFCHI\n"
     ]
    },
    {
     "name": "stderr",
     "output_type": "stream",
     "text": [
      "C:\\Users\\amora\\AppData\\Local\\Temp\\ipykernel_11196\\1370297944.py:38: FutureWarning: Passing literal html to 'read_html' is deprecated and will be removed in a future version. To read from a literal string, wrap it in a 'StringIO' object.\n",
      "  df = pd.read_html(table.get_attribute('outerHTML'))[0]\n"
     ]
    },
    {
     "name": "stdout",
     "output_type": "stream",
     "text": [
      "GDAXI /quote/%5EGDAXI?p=%5EGDAXI\n"
     ]
    },
    {
     "name": "stderr",
     "output_type": "stream",
     "text": [
      "C:\\Users\\amora\\AppData\\Local\\Temp\\ipykernel_11196\\1370297944.py:38: FutureWarning: Passing literal html to 'read_html' is deprecated and will be removed in a future version. To read from a literal string, wrap it in a 'StringIO' object.\n",
      "  df = pd.read_html(table.get_attribute('outerHTML'))[0]\n"
     ]
    },
    {
     "name": "stdout",
     "output_type": "stream",
     "text": [
      "STOXX50E /quote/%5ESTOXX50E?p=%5ESTOXX50E\n"
     ]
    },
    {
     "name": "stderr",
     "output_type": "stream",
     "text": [
      "C:\\Users\\amora\\AppData\\Local\\Temp\\ipykernel_11196\\1370297944.py:38: FutureWarning: Passing literal html to 'read_html' is deprecated and will be removed in a future version. To read from a literal string, wrap it in a 'StringIO' object.\n",
      "  df = pd.read_html(table.get_attribute('outerHTML'))[0]\n"
     ]
    },
    {
     "name": "stdout",
     "output_type": "stream",
     "text": [
      "N225 /quote/%5EN225?p=%5EN225\n"
     ]
    },
    {
     "name": "stderr",
     "output_type": "stream",
     "text": [
      "C:\\Users\\amora\\AppData\\Local\\Temp\\ipykernel_11196\\1370297944.py:38: FutureWarning: Passing literal html to 'read_html' is deprecated and will be removed in a future version. To read from a literal string, wrap it in a 'StringIO' object.\n",
      "  df = pd.read_html(table.get_attribute('outerHTML'))[0]\n"
     ]
    },
    {
     "name": "stdout",
     "output_type": "stream",
     "text": [
      "HSI /quote/%5EHSI?p=%5EHSI\n"
     ]
    },
    {
     "name": "stderr",
     "output_type": "stream",
     "text": [
      "C:\\Users\\amora\\AppData\\Local\\Temp\\ipykernel_11196\\1370297944.py:38: FutureWarning: Passing literal html to 'read_html' is deprecated and will be removed in a future version. To read from a literal string, wrap it in a 'StringIO' object.\n",
      "  df = pd.read_html(table.get_attribute('outerHTML'))[0]\n"
     ]
    },
    {
     "name": "stdout",
     "output_type": "stream",
     "text": [
      "BVSP /quote/%5EBVSP?p=%5EBVSP\n"
     ]
    },
    {
     "name": "stderr",
     "output_type": "stream",
     "text": [
      "C:\\Users\\amora\\AppData\\Local\\Temp\\ipykernel_11196\\1370297944.py:38: FutureWarning: Passing literal html to 'read_html' is deprecated and will be removed in a future version. To read from a literal string, wrap it in a 'StringIO' object.\n",
      "  df = pd.read_html(table.get_attribute('outerHTML'))[0]\n"
     ]
    },
    {
     "name": "stdout",
     "output_type": "stream",
     "text": [
      "MXX /quote/%5EMXX?p=%5EMXX\n"
     ]
    },
    {
     "name": "stderr",
     "output_type": "stream",
     "text": [
      "C:\\Users\\amora\\AppData\\Local\\Temp\\ipykernel_11196\\1370297944.py:38: FutureWarning: Passing literal html to 'read_html' is deprecated and will be removed in a future version. To read from a literal string, wrap it in a 'StringIO' object.\n",
      "  df = pd.read_html(table.get_attribute('outerHTML'))[0]\n"
     ]
    },
    {
     "name": "stdout",
     "output_type": "stream",
     "text": [
      "IPSA /quote/%5EIPSA?p=%5EIPSA\n",
      "N100 /quote/%5EN100?p=%5EN100\n"
     ]
    },
    {
     "name": "stderr",
     "output_type": "stream",
     "text": [
      "C:\\Users\\amora\\AppData\\Local\\Temp\\ipykernel_11196\\1370297944.py:38: FutureWarning: Passing literal html to 'read_html' is deprecated and will be removed in a future version. To read from a literal string, wrap it in a 'StringIO' object.\n",
      "  df = pd.read_html(table.get_attribute('outerHTML'))[0]\n"
     ]
    },
    {
     "name": "stdout",
     "output_type": "stream",
     "text": [
      "BFX /quote/%5EBFX?p=%5EBFX\n",
      "ATX /quote/%5EATX?p=%5EATX\n"
     ]
    },
    {
     "name": "stderr",
     "output_type": "stream",
     "text": [
      "C:\\Users\\amora\\AppData\\Local\\Temp\\ipykernel_11196\\1370297944.py:38: FutureWarning: Passing literal html to 'read_html' is deprecated and will be removed in a future version. To read from a literal string, wrap it in a 'StringIO' object.\n",
      "  df = pd.read_html(table.get_attribute('outerHTML'))[0]\n"
     ]
    },
    {
     "name": "stdout",
     "output_type": "stream",
     "text": [
      "OMXC20 /quote/%5EOMXC20?p=%5EOMXC20\n"
     ]
    },
    {
     "name": "stderr",
     "output_type": "stream",
     "text": [
      "C:\\Users\\amora\\AppData\\Local\\Temp\\ipykernel_11196\\1370297944.py:38: FutureWarning: Passing literal html to 'read_html' is deprecated and will be removed in a future version. To read from a literal string, wrap it in a 'StringIO' object.\n",
      "  df = pd.read_html(table.get_attribute('outerHTML'))[0]\n"
     ]
    },
    {
     "name": "stdout",
     "output_type": "stream",
     "text": [
      "OSEAX /quote/%5EOSEAX?p=%5EOSEAX\n"
     ]
    },
    {
     "name": "stderr",
     "output_type": "stream",
     "text": [
      "C:\\Users\\amora\\AppData\\Local\\Temp\\ipykernel_11196\\1370297944.py:38: FutureWarning: Passing literal html to 'read_html' is deprecated and will be removed in a future version. To read from a literal string, wrap it in a 'StringIO' object.\n",
      "  df = pd.read_html(table.get_attribute('outerHTML'))[0]\n"
     ]
    },
    {
     "name": "stdout",
     "output_type": "stream",
     "text": [
      "FTSEMIB.MI /quote/FTSEMIB.MI?p=FTSEMIB.MI\n",
      "OMXSPI /quote/%5EOMXSPI?p=%5EOMXSPI\n"
     ]
    },
    {
     "name": "stderr",
     "output_type": "stream",
     "text": [
      "C:\\Users\\amora\\AppData\\Local\\Temp\\ipykernel_11196\\1370297944.py:38: FutureWarning: Passing literal html to 'read_html' is deprecated and will be removed in a future version. To read from a literal string, wrap it in a 'StringIO' object.\n",
      "  df = pd.read_html(table.get_attribute('outerHTML'))[0]\n"
     ]
    },
    {
     "name": "stdout",
     "output_type": "stream",
     "text": [
      "SSMI /quote/%5ESSMI?p=%5ESSMI\n"
     ]
    },
    {
     "name": "stderr",
     "output_type": "stream",
     "text": [
      "C:\\Users\\amora\\AppData\\Local\\Temp\\ipykernel_11196\\1370297944.py:38: FutureWarning: Passing literal html to 'read_html' is deprecated and will be removed in a future version. To read from a literal string, wrap it in a 'StringIO' object.\n",
      "  df = pd.read_html(table.get_attribute('outerHTML'))[0]\n"
     ]
    },
    {
     "name": "stdout",
     "output_type": "stream",
     "text": [
      "JKSE /quote/%5EJKSE?p=%5EJKSE\n"
     ]
    },
    {
     "name": "stderr",
     "output_type": "stream",
     "text": [
      "C:\\Users\\amora\\AppData\\Local\\Temp\\ipykernel_11196\\1370297944.py:38: FutureWarning: Passing literal html to 'read_html' is deprecated and will be removed in a future version. To read from a literal string, wrap it in a 'StringIO' object.\n",
      "  df = pd.read_html(table.get_attribute('outerHTML'))[0]\n"
     ]
    },
    {
     "name": "stdout",
     "output_type": "stream",
     "text": [
      "KS11 /quote/%5EKS11?p=%5EKS11\n"
     ]
    },
    {
     "name": "stderr",
     "output_type": "stream",
     "text": [
      "C:\\Users\\amora\\AppData\\Local\\Temp\\ipykernel_11196\\1370297944.py:38: FutureWarning: Passing literal html to 'read_html' is deprecated and will be removed in a future version. To read from a literal string, wrap it in a 'StringIO' object.\n",
      "  df = pd.read_html(table.get_attribute('outerHTML'))[0]\n"
     ]
    },
    {
     "name": "stdout",
     "output_type": "stream",
     "text": [
      "TWII /quote/%5ETWII?p=%5ETWII\n"
     ]
    },
    {
     "name": "stderr",
     "output_type": "stream",
     "text": [
      "C:\\Users\\amora\\AppData\\Local\\Temp\\ipykernel_11196\\1370297944.py:38: FutureWarning: Passing literal html to 'read_html' is deprecated and will be removed in a future version. To read from a literal string, wrap it in a 'StringIO' object.\n",
      "  df = pd.read_html(table.get_attribute('outerHTML'))[0]\n"
     ]
    },
    {
     "name": "stdout",
     "output_type": "stream",
     "text": [
      "TA125.TA /quote/%5ETA125.TA?p=%5ETA125.TA\n"
     ]
    },
    {
     "name": "stderr",
     "output_type": "stream",
     "text": [
      "C:\\Users\\amora\\AppData\\Local\\Temp\\ipykernel_11196\\1370297944.py:38: FutureWarning: Passing literal html to 'read_html' is deprecated and will be removed in a future version. To read from a literal string, wrap it in a 'StringIO' object.\n",
      "  df = pd.read_html(table.get_attribute('outerHTML'))[0]\n"
     ]
    },
    {
     "name": "stdout",
     "output_type": "stream",
     "text": [
      "INDC.MC /quote/INDC.MC?p=INDC.MC\n"
     ]
    },
    {
     "name": "stderr",
     "output_type": "stream",
     "text": [
      "C:\\Users\\amora\\AppData\\Local\\Temp\\ipykernel_11196\\1370297944.py:38: FutureWarning: Passing literal html to 'read_html' is deprecated and will be removed in a future version. To read from a literal string, wrap it in a 'StringIO' object.\n",
      "  df = pd.read_html(table.get_attribute('outerHTML'))[0]\n"
     ]
    },
    {
     "name": "stdout",
     "output_type": "stream",
     "text": [
      "INDS.MC /quote/INDS.MC?p=INDS.MC\n"
     ]
    },
    {
     "name": "stderr",
     "output_type": "stream",
     "text": [
      "C:\\Users\\amora\\AppData\\Local\\Temp\\ipykernel_11196\\1370297944.py:38: FutureWarning: Passing literal html to 'read_html' is deprecated and will be removed in a future version. To read from a literal string, wrap it in a 'StringIO' object.\n",
      "  df = pd.read_html(table.get_attribute('outerHTML'))[0]\n"
     ]
    },
    {
     "name": "stdout",
     "output_type": "stream",
     "text": [
      "INDD.MC /quote/INDD.MC?p=INDD.MC\n"
     ]
    },
    {
     "name": "stderr",
     "output_type": "stream",
     "text": [
      "C:\\Users\\amora\\AppData\\Local\\Temp\\ipykernel_11196\\1370297944.py:38: FutureWarning: Passing literal html to 'read_html' is deprecated and will be removed in a future version. To read from a literal string, wrap it in a 'StringIO' object.\n",
      "  df = pd.read_html(table.get_attribute('outerHTML'))[0]\n"
     ]
    },
    {
     "name": "stdout",
     "output_type": "stream",
     "text": [
      "KLSE /quote/%5EKLSE?p=%5EKLSE\n",
      "NZ50 /quote/%5ENZ50?p=%5ENZ50\n"
     ]
    },
    {
     "name": "stderr",
     "output_type": "stream",
     "text": [
      "C:\\Users\\amora\\AppData\\Local\\Temp\\ipykernel_11196\\1370297944.py:38: FutureWarning: Passing literal html to 'read_html' is deprecated and will be removed in a future version. To read from a literal string, wrap it in a 'StringIO' object.\n",
      "  df = pd.read_html(table.get_attribute('outerHTML'))[0]\n"
     ]
    },
    {
     "name": "stdout",
     "output_type": "stream",
     "text": [
      "CASE30 /quote/%5ECASE30?p=%5ECASE30\n"
     ]
    },
    {
     "name": "stderr",
     "output_type": "stream",
     "text": [
      "C:\\Users\\amora\\AppData\\Local\\Temp\\ipykernel_11196\\1370297944.py:38: FutureWarning: Passing literal html to 'read_html' is deprecated and will be removed in a future version. To read from a literal string, wrap it in a 'StringIO' object.\n",
      "  df = pd.read_html(table.get_attribute('outerHTML'))[0]\n"
     ]
    },
    {
     "name": "stdout",
     "output_type": "stream",
     "text": [
      "JN0U.JO /quote/%5EJN0U.JO?p=%5EJN0U.JO\n"
     ]
    },
    {
     "name": "stderr",
     "output_type": "stream",
     "text": [
      "C:\\Users\\amora\\AppData\\Local\\Temp\\ipykernel_11196\\1370297944.py:38: FutureWarning: Passing literal html to 'read_html' is deprecated and will be removed in a future version. To read from a literal string, wrap it in a 'StringIO' object.\n",
      "  df = pd.read_html(table.get_attribute('outerHTML'))[0]\n"
     ]
    }
   ],
   "source": [
    "for k,v in dict_indices.items():\n",
    "\n",
    "    print(k,v)\n",
    "    try:\n",
    "        df = obtener_datos(v)\n",
    "        df.to_csv(f'./data/{k}/{k}.csv', index=False) \n",
    "    except:\n",
    "        None \n",
    "\n"
   ]
  },
  {
   "cell_type": "code",
   "execution_count": 14,
   "metadata": {},
   "outputs": [],
   "source": [
    "def obtener_componentes_indices(url):\n",
    "    \n",
    "    driver = webdriver.Chrome()\n",
    "\n",
    "    url_principal = f\"https://es.finance.yahoo.com/{url}\"\n",
    "\n",
    "    driver.get(url_principal)\n",
    "\n",
    "    #Acepta las condiciones\n",
    "    driver.find_element(by=By.CSS_SELECTOR, value='#consent-page > div > div > div > form > div.wizard-body > div.actions.couple > button.btn.secondary.accept-all').click()\n",
    "    sleep(2)\n",
    "    \n",
    "    #Selecciona los datos historicos del indice\n",
    "    try:\n",
    "        driver.find_element(by=By.CSS_SELECTOR, value='#quote-nav > ul > li:nth-child(5) > a').click()\n",
    "        sleep(2)\n",
    "\n",
    "        #Baja hasta el final de la pagina\n",
    "        var=5000 \n",
    "        for i in range(5):\n",
    "            driver.execute_script(f\"window.scrollTo(0, {var}{i});\")\n",
    "            sleep(1)\n",
    "        #Encuentra la tabla en la página utilizando Selenium (ajusta este código según la estructura específica de la página)\n",
    "        table = driver.find_element(By.TAG_NAME, 'table')\n",
    "\n",
    "        #Utiliza pandas para leer la tabla HTML y convertirla en un DataFrame\n",
    "        df = pd.read_html(table.get_attribute('outerHTML'))[0]\n",
    "\n",
    "        driver.quit()\n",
    "\n",
    "        return df\n",
    "    \n",
    "    except:\n",
    "        None"
   ]
  },
  {
   "cell_type": "code",
   "execution_count": 15,
   "metadata": {},
   "outputs": [
    {
     "name": "stdout",
     "output_type": "stream",
     "text": [
      "IBEX /quote/%5EIBEX?p=%5EIBEX\n"
     ]
    },
    {
     "name": "stderr",
     "output_type": "stream",
     "text": [
      "C:\\Users\\amora\\AppData\\Local\\Temp\\ipykernel_11196\\2571930024.py:27: FutureWarning: Passing literal html to 'read_html' is deprecated and will be removed in a future version. To read from a literal string, wrap it in a 'StringIO' object.\n",
      "  df = pd.read_html(table.get_attribute('outerHTML'))[0]\n"
     ]
    },
    {
     "name": "stdout",
     "output_type": "stream",
     "text": [
      "GSPC /quote/%5EGSPC?p=%5EGSPC\n",
      "DJI /quote/%5EDJI?p=%5EDJI\n",
      "IXIC /quote/%5EIXIC?p=%5EIXIC\n"
     ]
    },
    {
     "name": "stderr",
     "output_type": "stream",
     "text": [
      "C:\\Users\\amora\\AppData\\Local\\Temp\\ipykernel_11196\\2571930024.py:27: FutureWarning: Passing literal html to 'read_html' is deprecated and will be removed in a future version. To read from a literal string, wrap it in a 'StringIO' object.\n",
      "  df = pd.read_html(table.get_attribute('outerHTML'))[0]\n"
     ]
    },
    {
     "name": "stdout",
     "output_type": "stream",
     "text": [
      "FTSE /quote/%5EFTSE?p=%5EFTSE\n",
      "FCHI /quote/%5EFCHI?p=%5EFCHI\n"
     ]
    },
    {
     "name": "stderr",
     "output_type": "stream",
     "text": [
      "C:\\Users\\amora\\AppData\\Local\\Temp\\ipykernel_11196\\2571930024.py:27: FutureWarning: Passing literal html to 'read_html' is deprecated and will be removed in a future version. To read from a literal string, wrap it in a 'StringIO' object.\n",
      "  df = pd.read_html(table.get_attribute('outerHTML'))[0]\n"
     ]
    },
    {
     "name": "stdout",
     "output_type": "stream",
     "text": [
      "GDAXI /quote/%5EGDAXI?p=%5EGDAXI\n"
     ]
    },
    {
     "name": "stderr",
     "output_type": "stream",
     "text": [
      "C:\\Users\\amora\\AppData\\Local\\Temp\\ipykernel_11196\\2571930024.py:27: FutureWarning: Passing literal html to 'read_html' is deprecated and will be removed in a future version. To read from a literal string, wrap it in a 'StringIO' object.\n",
      "  df = pd.read_html(table.get_attribute('outerHTML'))[0]\n"
     ]
    },
    {
     "name": "stdout",
     "output_type": "stream",
     "text": [
      "STOXX50E /quote/%5ESTOXX50E?p=%5ESTOXX50E\n"
     ]
    },
    {
     "name": "stderr",
     "output_type": "stream",
     "text": [
      "C:\\Users\\amora\\AppData\\Local\\Temp\\ipykernel_11196\\2571930024.py:27: FutureWarning: Passing literal html to 'read_html' is deprecated and will be removed in a future version. To read from a literal string, wrap it in a 'StringIO' object.\n",
      "  df = pd.read_html(table.get_attribute('outerHTML'))[0]\n"
     ]
    },
    {
     "name": "stdout",
     "output_type": "stream",
     "text": [
      "N225 /quote/%5EN225?p=%5EN225\n",
      "HSI /quote/%5EHSI?p=%5EHSI\n"
     ]
    },
    {
     "name": "stderr",
     "output_type": "stream",
     "text": [
      "C:\\Users\\amora\\AppData\\Local\\Temp\\ipykernel_11196\\2571930024.py:27: FutureWarning: Passing literal html to 'read_html' is deprecated and will be removed in a future version. To read from a literal string, wrap it in a 'StringIO' object.\n",
      "  df = pd.read_html(table.get_attribute('outerHTML'))[0]\n"
     ]
    },
    {
     "name": "stdout",
     "output_type": "stream",
     "text": [
      "BVSP /quote/%5EBVSP?p=%5EBVSP\n"
     ]
    },
    {
     "name": "stderr",
     "output_type": "stream",
     "text": [
      "C:\\Users\\amora\\AppData\\Local\\Temp\\ipykernel_11196\\2571930024.py:27: FutureWarning: Passing literal html to 'read_html' is deprecated and will be removed in a future version. To read from a literal string, wrap it in a 'StringIO' object.\n",
      "  df = pd.read_html(table.get_attribute('outerHTML'))[0]\n"
     ]
    },
    {
     "name": "stdout",
     "output_type": "stream",
     "text": [
      "MXX /quote/%5EMXX?p=%5EMXX\n"
     ]
    },
    {
     "name": "stderr",
     "output_type": "stream",
     "text": [
      "C:\\Users\\amora\\AppData\\Local\\Temp\\ipykernel_11196\\2571930024.py:27: FutureWarning: Passing literal html to 'read_html' is deprecated and will be removed in a future version. To read from a literal string, wrap it in a 'StringIO' object.\n",
      "  df = pd.read_html(table.get_attribute('outerHTML'))[0]\n"
     ]
    },
    {
     "name": "stdout",
     "output_type": "stream",
     "text": [
      "IPSA /quote/%5EIPSA?p=%5EIPSA\n"
     ]
    },
    {
     "name": "stderr",
     "output_type": "stream",
     "text": [
      "C:\\Users\\amora\\AppData\\Local\\Temp\\ipykernel_11196\\2571930024.py:27: FutureWarning: Passing literal html to 'read_html' is deprecated and will be removed in a future version. To read from a literal string, wrap it in a 'StringIO' object.\n",
      "  df = pd.read_html(table.get_attribute('outerHTML'))[0]\n"
     ]
    },
    {
     "name": "stdout",
     "output_type": "stream",
     "text": [
      "N100 /quote/%5EN100?p=%5EN100\n"
     ]
    },
    {
     "name": "stderr",
     "output_type": "stream",
     "text": [
      "C:\\Users\\amora\\AppData\\Local\\Temp\\ipykernel_11196\\2571930024.py:27: FutureWarning: Passing literal html to 'read_html' is deprecated and will be removed in a future version. To read from a literal string, wrap it in a 'StringIO' object.\n",
      "  df = pd.read_html(table.get_attribute('outerHTML'))[0]\n"
     ]
    },
    {
     "name": "stdout",
     "output_type": "stream",
     "text": [
      "BFX /quote/%5EBFX?p=%5EBFX\n"
     ]
    },
    {
     "name": "stderr",
     "output_type": "stream",
     "text": [
      "C:\\Users\\amora\\AppData\\Local\\Temp\\ipykernel_11196\\2571930024.py:27: FutureWarning: Passing literal html to 'read_html' is deprecated and will be removed in a future version. To read from a literal string, wrap it in a 'StringIO' object.\n",
      "  df = pd.read_html(table.get_attribute('outerHTML'))[0]\n"
     ]
    },
    {
     "name": "stdout",
     "output_type": "stream",
     "text": [
      "ATX /quote/%5EATX?p=%5EATX\n"
     ]
    },
    {
     "name": "stderr",
     "output_type": "stream",
     "text": [
      "C:\\Users\\amora\\AppData\\Local\\Temp\\ipykernel_11196\\2571930024.py:27: FutureWarning: Passing literal html to 'read_html' is deprecated and will be removed in a future version. To read from a literal string, wrap it in a 'StringIO' object.\n",
      "  df = pd.read_html(table.get_attribute('outerHTML'))[0]\n"
     ]
    },
    {
     "name": "stdout",
     "output_type": "stream",
     "text": [
      "OMXC20 /quote/%5EOMXC20?p=%5EOMXC20\n"
     ]
    },
    {
     "name": "stderr",
     "output_type": "stream",
     "text": [
      "C:\\Users\\amora\\AppData\\Local\\Temp\\ipykernel_11196\\2571930024.py:27: FutureWarning: Passing literal html to 'read_html' is deprecated and will be removed in a future version. To read from a literal string, wrap it in a 'StringIO' object.\n",
      "  df = pd.read_html(table.get_attribute('outerHTML'))[0]\n"
     ]
    },
    {
     "name": "stdout",
     "output_type": "stream",
     "text": [
      "OSEAX /quote/%5EOSEAX?p=%5EOSEAX\n"
     ]
    },
    {
     "name": "stderr",
     "output_type": "stream",
     "text": [
      "C:\\Users\\amora\\AppData\\Local\\Temp\\ipykernel_11196\\2571930024.py:27: FutureWarning: Passing literal html to 'read_html' is deprecated and will be removed in a future version. To read from a literal string, wrap it in a 'StringIO' object.\n",
      "  df = pd.read_html(table.get_attribute('outerHTML'))[0]\n"
     ]
    },
    {
     "name": "stdout",
     "output_type": "stream",
     "text": [
      "FTSEMIB.MI /quote/FTSEMIB.MI?p=FTSEMIB.MI\n",
      "OMXSPI /quote/%5EOMXSPI?p=%5EOMXSPI\n"
     ]
    },
    {
     "name": "stderr",
     "output_type": "stream",
     "text": [
      "C:\\Users\\amora\\AppData\\Local\\Temp\\ipykernel_11196\\2571930024.py:27: FutureWarning: Passing literal html to 'read_html' is deprecated and will be removed in a future version. To read from a literal string, wrap it in a 'StringIO' object.\n",
      "  df = pd.read_html(table.get_attribute('outerHTML'))[0]\n"
     ]
    },
    {
     "name": "stdout",
     "output_type": "stream",
     "text": [
      "SSMI /quote/%5ESSMI?p=%5ESSMI\n"
     ]
    },
    {
     "name": "stderr",
     "output_type": "stream",
     "text": [
      "C:\\Users\\amora\\AppData\\Local\\Temp\\ipykernel_11196\\2571930024.py:27: FutureWarning: Passing literal html to 'read_html' is deprecated and will be removed in a future version. To read from a literal string, wrap it in a 'StringIO' object.\n",
      "  df = pd.read_html(table.get_attribute('outerHTML'))[0]\n"
     ]
    },
    {
     "name": "stdout",
     "output_type": "stream",
     "text": [
      "JKSE /quote/%5EJKSE?p=%5EJKSE\n"
     ]
    },
    {
     "name": "stderr",
     "output_type": "stream",
     "text": [
      "C:\\Users\\amora\\AppData\\Local\\Temp\\ipykernel_11196\\2571930024.py:27: FutureWarning: Passing literal html to 'read_html' is deprecated and will be removed in a future version. To read from a literal string, wrap it in a 'StringIO' object.\n",
      "  df = pd.read_html(table.get_attribute('outerHTML'))[0]\n"
     ]
    },
    {
     "name": "stdout",
     "output_type": "stream",
     "text": [
      "KS11 /quote/%5EKS11?p=%5EKS11\n",
      "TWII /quote/%5ETWII?p=%5ETWII\n",
      "TA125.TA /quote/%5ETA125.TA?p=%5ETA125.TA\n",
      "INDC.MC /quote/INDC.MC?p=INDC.MC\n"
     ]
    },
    {
     "name": "stderr",
     "output_type": "stream",
     "text": [
      "C:\\Users\\amora\\AppData\\Local\\Temp\\ipykernel_11196\\2571930024.py:27: FutureWarning: Passing literal html to 'read_html' is deprecated and will be removed in a future version. To read from a literal string, wrap it in a 'StringIO' object.\n",
      "  df = pd.read_html(table.get_attribute('outerHTML'))[0]\n"
     ]
    },
    {
     "name": "stdout",
     "output_type": "stream",
     "text": [
      "INDS.MC /quote/INDS.MC?p=INDS.MC\n",
      "INDD.MC /quote/INDD.MC?p=INDD.MC\n",
      "KLSE /quote/%5EKLSE?p=%5EKLSE\n",
      "NZ50 /quote/%5ENZ50?p=%5ENZ50\n",
      "CASE30 /quote/%5ECASE30?p=%5ECASE30\n"
     ]
    },
    {
     "name": "stderr",
     "output_type": "stream",
     "text": [
      "C:\\Users\\amora\\AppData\\Local\\Temp\\ipykernel_11196\\2571930024.py:27: FutureWarning: Passing literal html to 'read_html' is deprecated and will be removed in a future version. To read from a literal string, wrap it in a 'StringIO' object.\n",
      "  df = pd.read_html(table.get_attribute('outerHTML'))[0]\n"
     ]
    },
    {
     "name": "stdout",
     "output_type": "stream",
     "text": [
      "JN0U.JO /quote/%5EJN0U.JO?p=%5EJN0U.JO\n"
     ]
    }
   ],
   "source": [
    "for k,v in dict_indices.items():\n",
    "\n",
    "    print(k,v)\n",
    "    try:\n",
    "        df = obtener_componentes_indices(v)\n",
    "        df.to_csv(f'./data/{k}/{k}_componentes.csv', index=False) \n",
    "    except:\n",
    "        None "
   ]
  },
  {
   "cell_type": "code",
   "execution_count": null,
   "metadata": {},
   "outputs": [],
   "source": [
    "url= 'https://es.finance.yahoo.com'\n",
    "for i,k in dict_indices.items():\n",
    "    browser = webdriver.Chrome()\n",
    "    url_principal=f'https://es.finance.yahoo.com{k}'\n",
    "    browser.get(url_principal)\n",
    "    browser.find_element(by = By.CSS_SELECTOR, value = \"#consent-page > div > div > div > form > div.wizard-body > div.actions.couple > button.btn.secondary.accept-all\").click()\n",
    "    sleep(5)\n",
    "    try:\n",
    "        browser.find_element(by=By.CSS_SELECTOR, value='#quote-nav > ul > li:nth-child(5) > a').click()\n",
    "        var1=5000 \n",
    "        for numero1 in range(5):\n",
    "            browser.execute_script(f\"window.scrollTo(0, {var1}{numero1});\")\n",
    "            sleep(1)\n",
    "        soup = BeautifulSoup(browser.page_source, \"html.parser\")\n",
    "        sleep(1)\n",
    "        lista_acciones = soup.find(\"tbody\").find_all(\"a\")\n",
    "        sleep(1)\n",
    "        lista_acciones.pop(-1)\n",
    "        sleep(1)\n",
    "        dict_accion = { a.text.replace(\"^\",\"\") : a[\"href\"]  for a in lista_acciones if a.text != \"\" }\n",
    "        sleep(1)\n",
    "        \n",
    "        for x,y in dict_accion.items():\n",
    "            driver = webdriver.Chrome()\n",
    "            sleep(1)\n",
    "            url_accion=f'https://es.finance.yahoo.com{y}'\n",
    "            sleep(1)\n",
    "            driver.get(url_accion)\n",
    "            sleep(1)\n",
    "            driver.find_element(by = By.CSS_SELECTOR, value = \"#consent-page > div > div > div > form > div.wizard-body > div.actions.couple > button.btn.secondary.accept-all \").click()\n",
    "            sleep(1)\n",
    "            try:\n",
    "                driver.find_element(by=By.CSS_SELECTOR, value= '#quote-nav > ul > li:nth-child(4) > a').click()\n",
    "                sleep(1)\n",
    "                driver.find_element(by=By.CSS_SELECTOR, value= '#Col1-1-HistoricalDataTable-Proxy > section > div.Pt\\(15px\\) > div.Bgc\\(\\$lv1BgColor\\).Bdrs\\(3px\\).P\\(10px\\) > div:nth-child(1) > div > div > div > span').click()\n",
    "                sleep(1)\n",
    "                driver.find_element(by=By.CSS_SELECTOR, value= '#dropdown-menu > div > ul:nth-child(2) > li:nth-child(3) > button').click()\n",
    "                sleep(1)\n",
    "                driver.find_element(by=By.CSS_SELECTOR, value= '#Col1-1-HistoricalDataTable-Proxy > section > div.Pt\\(15px\\) > div.Bgc\\(\\$lv1BgColor\\).Bdrs\\(3px\\).P\\(10px\\) > button').click()\n",
    "                sleep(1)\n",
    "                #Baja hasta el final de la pagina\n",
    "                var=5000 \n",
    "                for numero in range(20):\n",
    "                    driver.execute_script(f\"window.scrollTo(0, {var}{numero});\")\n",
    "                    sleep(1)\n",
    "                #Encuentra la tabla en la página utilizando Selenium (ajusta este código según la estructura específica de la página)\n",
    "                table = driver.find_element(By.TAG_NAME, 'table')\n",
    "                sleep(1)\n",
    "\n",
    "                #Utiliza pandas para leer la tabla HTML y convertirla en un DataFrame\n",
    "                df = pd.read_html(table.get_attribute('outerHTML'))[0]\n",
    "                sleep(1)\n",
    "\n",
    "                driver.quit()\n",
    "\n",
    "                try:\n",
    "                    df.to_csv(f'./data/{i}/{i}_accion_{x}.csv', index=False) \n",
    "                except:\n",
    "                    None \n",
    "\n",
    "                driver.find_element(by=By.CSS_SELECTOR, value= '#quote-nav > ul > li:nth-child(5) > a').click()\n",
    "                \n",
    "                \n",
    "\n",
    "                driver.quit()\n",
    "            except:\n",
    "                None\n",
    "        browser.quit()\n",
    "    except:\n",
    "        None"
   ]
  }
 ],
 "metadata": {
  "kernelspec": {
   "display_name": "Python 3",
   "language": "python",
   "name": "python3"
  },
  "language_info": {
   "codemirror_mode": {
    "name": "ipython",
    "version": 3
   },
   "file_extension": ".py",
   "mimetype": "text/x-python",
   "name": "python",
   "nbconvert_exporter": "python",
   "pygments_lexer": "ipython3",
   "version": "3.11.7"
  }
 },
 "nbformat": 4,
 "nbformat_minor": 2
}
